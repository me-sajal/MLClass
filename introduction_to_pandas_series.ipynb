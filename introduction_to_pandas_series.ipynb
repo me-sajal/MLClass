{
  "nbformat": 4,
  "nbformat_minor": 0,
  "metadata": {
    "colab": {
      "provenance": [],
      "authorship_tag": "ABX9TyP1xnoTuz1N5OFHCAGoLyBn",
      "include_colab_link": true
    },
    "kernelspec": {
      "name": "python3",
      "display_name": "Python 3"
    },
    "language_info": {
      "name": "python"
    }
  },
  "cells": [
    {
      "cell_type": "markdown",
      "metadata": {
        "id": "view-in-github",
        "colab_type": "text"
      },
      "source": [
        "<a href=\"https://colab.research.google.com/github/me-sajal/broadway-learning-mlclass/blob/main/introduction_to_pandas_series.ipynb\" target=\"_parent\"><img src=\"https://colab.research.google.com/assets/colab-badge.svg\" alt=\"Open In Colab\"/></a>"
      ]
    },
    {
      "cell_type": "markdown",
      "source": [
        "#Pandas\n",
        "Pandas is a fast, powerful, flexible and easy to use open source data analysis and manipulation tool,\n",
        "built on top of the Python programming language."
      ],
      "metadata": {
        "id": "GKlkDIxgXQBu"
      }
    },
    {
      "cell_type": "markdown",
      "source": [
        "## installing pandas\n",
        "there are two ways. i.e:\n",
        "* !pip install pandas\n",
        "* %%bash pip install pandas\n",
        "\n"
      ],
      "metadata": {
        "id": "jiYV6pBwXi8v"
      }
    },
    {
      "cell_type": "code",
      "source": [
        "!pip install pandas"
      ],
      "metadata": {
        "colab": {
          "base_uri": "https://localhost:8080/"
        },
        "id": "mVwzH2PvXV47",
        "outputId": "97a76c3c-588f-4fb2-c7fc-9fcfedd9aa49"
      },
      "execution_count": null,
      "outputs": [
        {
          "output_type": "stream",
          "name": "stdout",
          "text": [
            "Looking in indexes: https://pypi.org/simple, https://us-python.pkg.dev/colab-wheels/public/simple/\n",
            "Requirement already satisfied: pandas in /usr/local/lib/python3.10/dist-packages (1.5.3)\n",
            "Requirement already satisfied: python-dateutil>=2.8.1 in /usr/local/lib/python3.10/dist-packages (from pandas) (2.8.2)\n",
            "Requirement already satisfied: pytz>=2020.1 in /usr/local/lib/python3.10/dist-packages (from pandas) (2022.7.1)\n",
            "Requirement already satisfied: numpy>=1.21.0 in /usr/local/lib/python3.10/dist-packages (from pandas) (1.22.4)\n",
            "Requirement already satisfied: six>=1.5 in /usr/local/lib/python3.10/dist-packages (from python-dateutil>=2.8.1->pandas) (1.16.0)\n"
          ]
        }
      ]
    },
    {
      "cell_type": "code",
      "source": [
        "%%bash\n",
        "pip install pandas"
      ],
      "metadata": {
        "colab": {
          "base_uri": "https://localhost:8080/"
        },
        "id": "fOEZwHr0XtPA",
        "outputId": "82c0068f-edce-46a0-a2a0-8df5ea0b2c56"
      },
      "execution_count": null,
      "outputs": [
        {
          "output_type": "stream",
          "name": "stdout",
          "text": [
            "Looking in indexes: https://pypi.org/simple, https://us-python.pkg.dev/colab-wheels/public/simple/\n",
            "Requirement already satisfied: pandas in /usr/local/lib/python3.10/dist-packages (1.5.3)\n",
            "Requirement already satisfied: python-dateutil>=2.8.1 in /usr/local/lib/python3.10/dist-packages (from pandas) (2.8.2)\n",
            "Requirement already satisfied: pytz>=2020.1 in /usr/local/lib/python3.10/dist-packages (from pandas) (2022.7.1)\n",
            "Requirement already satisfied: numpy>=1.21.0 in /usr/local/lib/python3.10/dist-packages (from pandas) (1.22.4)\n",
            "Requirement already satisfied: six>=1.5 in /usr/local/lib/python3.10/dist-packages (from python-dateutil>=2.8.1->pandas) (1.16.0)\n"
          ]
        }
      ]
    },
    {
      "cell_type": "code",
      "source": [
        "import pandas as pd"
      ],
      "metadata": {
        "id": "-haWJDrhXzOL"
      },
      "execution_count": null,
      "outputs": []
    },
    {
      "cell_type": "markdown",
      "source": [
        "# Check version"
      ],
      "metadata": {
        "id": "VcRkCyaBYa0g"
      }
    },
    {
      "cell_type": "code",
      "source": [
        "pd.__version__"
      ],
      "metadata": {
        "colab": {
          "base_uri": "https://localhost:8080/",
          "height": 35
        },
        "id": "DZ3dFW98YZS8",
        "outputId": "17c2cfdd-358b-41fd-8d5a-29fad6a74a4b"
      },
      "execution_count": null,
      "outputs": [
        {
          "output_type": "execute_result",
          "data": {
            "text/plain": [
              "'1.5.3'"
            ],
            "application/vnd.google.colaboratory.intrinsic+json": {
              "type": "string"
            }
          },
          "metadata": {},
          "execution_count": 5
        }
      ]
    },
    {
      "cell_type": "markdown",
      "source": [
        "# Pandas data structure\n",
        "* Series: 1 Dimension\n",
        "* DataFrame : 2 Dimension or more"
      ],
      "metadata": {
        "id": "oyuQiFOWYkCS"
      }
    },
    {
      "cell_type": "markdown",
      "source": [
        "# Introduction to Series"
      ],
      "metadata": {
        "id": "MjIgQ6GwY35G"
      }
    },
    {
      "cell_type": "code",
      "source": [
        "# Creating empty series\n",
        "S = pd.Series(dtype='object')\n",
        "S"
      ],
      "metadata": {
        "colab": {
          "base_uri": "https://localhost:8080/"
        },
        "id": "Sgs829tlYe0k",
        "outputId": "23eb11c9-41aa-42fe-8eb9-8df39e4ff26b"
      },
      "execution_count": null,
      "outputs": [
        {
          "output_type": "execute_result",
          "data": {
            "text/plain": [
              "Series([], dtype: object)"
            ]
          },
          "metadata": {},
          "execution_count": 14
        }
      ]
    },
    {
      "cell_type": "code",
      "source": [
        "type(S)"
      ],
      "metadata": {
        "colab": {
          "base_uri": "https://localhost:8080/"
        },
        "id": "IDId_NuZZTFz",
        "outputId": "021803c6-c33e-4323-cfd0-5a8e5c13234b"
      },
      "execution_count": null,
      "outputs": [
        {
          "output_type": "execute_result",
          "data": {
            "text/plain": [
              "pandas.core.series.Series"
            ]
          },
          "metadata": {},
          "execution_count": 15
        }
      ]
    },
    {
      "cell_type": "code",
      "source": [
        "s.ndim"
      ],
      "metadata": {
        "colab": {
          "base_uri": "https://localhost:8080/"
        },
        "id": "hSMk-k4-ZWRW",
        "outputId": "7b612f1e-edb0-4547-a22b-52d18fbca756"
      },
      "execution_count": null,
      "outputs": [
        {
          "output_type": "execute_result",
          "data": {
            "text/plain": [
              "1"
            ]
          },
          "metadata": {},
          "execution_count": 16
        }
      ]
    },
    {
      "cell_type": "markdown",
      "source": [
        "### Create series using list"
      ],
      "metadata": {
        "id": "y_WgIT8baNFJ"
      }
    },
    {
      "cell_type": "code",
      "source": [
        "gift = ['BMW','Novel','Choclate','Gold Coin','Rolls Royace','Camera','Flower']\n",
        "S = pd.Series(gift)\n",
        "S"
      ],
      "metadata": {
        "colab": {
          "base_uri": "https://localhost:8080/"
        },
        "id": "wOZ-11FNaKsf",
        "outputId": "0926ac13-310a-4049-e1c6-565a264a199b"
      },
      "execution_count": null,
      "outputs": [
        {
          "output_type": "execute_result",
          "data": {
            "text/plain": [
              "0             BMW\n",
              "1           Novel\n",
              "2        Choclate\n",
              "3       Gold Coin\n",
              "4    Rolls Royace\n",
              "5          Camera\n",
              "6          Flower\n",
              "dtype: object"
            ]
          },
          "metadata": {},
          "execution_count": 20
        }
      ]
    },
    {
      "cell_type": "markdown",
      "source": [
        "# Change the index of the series"
      ],
      "metadata": {
        "id": "QbpT21Chb7tr"
      }
    },
    {
      "cell_type": "code",
      "source": [
        "gift = ['BMW', 'Novel', 'Choclate', 'Gold Coin', 'Rolls Royace', 'Camera', 'Flower']\n",
        "S = pd.Series(gift, index=['Bimarsh', 'Susmita', 'Bishal', 'Sajal', 'Sangit', 'Anish', 'Nischal'])\n",
        "S"
      ],
      "metadata": {
        "colab": {
          "base_uri": "https://localhost:8080/"
        },
        "id": "V81y2dXMbct0",
        "outputId": "3831a982-5448-416c-f48e-88f3a284342d"
      },
      "execution_count": null,
      "outputs": [
        {
          "output_type": "execute_result",
          "data": {
            "text/plain": [
              "Bimarsh             BMW\n",
              "Susmita           Novel\n",
              "Bishal         Choclate\n",
              "Sajal         Gold Coin\n",
              "Sangit     Rolls Royace\n",
              "Anish            Camera\n",
              "Nischal          Flower\n",
              "dtype: object"
            ]
          },
          "metadata": {},
          "execution_count": 25
        }
      ]
    },
    {
      "cell_type": "code",
      "source": [
        "S.index"
      ],
      "metadata": {
        "colab": {
          "base_uri": "https://localhost:8080/"
        },
        "id": "V30zJm99caA0",
        "outputId": "70888de6-4e80-49f7-882c-0a73579665cb"
      },
      "execution_count": null,
      "outputs": [
        {
          "output_type": "execute_result",
          "data": {
            "text/plain": [
              "Index(['Bimarsh', 'Susmita', 'Bishal', 'Sajal', 'Sangit', 'Anish', 'Nischal'], dtype='object')"
            ]
          },
          "metadata": {},
          "execution_count": 23
        }
      ]
    },
    {
      "cell_type": "code",
      "source": [
        "S.values"
      ],
      "metadata": {
        "colab": {
          "base_uri": "https://localhost:8080/"
        },
        "id": "KU3ULAV8cp1r",
        "outputId": "a8869d13-fedb-478b-f5a3-4bbb698d39de"
      },
      "execution_count": null,
      "outputs": [
        {
          "output_type": "execute_result",
          "data": {
            "text/plain": [
              "array(['BMW', 'Novel', 'Choclate', 'Gold Coin', 'Rolls Royace', 'Camera',\n",
              "       'Flower'], dtype=object)"
            ]
          },
          "metadata": {},
          "execution_count": 24
        }
      ]
    },
    {
      "cell_type": "code",
      "source": [
        "S['Sajal']"
      ],
      "metadata": {
        "colab": {
          "base_uri": "https://localhost:8080/",
          "height": 35
        },
        "id": "LZG8P9g-cu9O",
        "outputId": "b9cf4419-ff6d-4eda-ccb4-7b3bcd2fa704"
      },
      "execution_count": null,
      "outputs": [
        {
          "output_type": "execute_result",
          "data": {
            "text/plain": [
              "'Gold Coin'"
            ],
            "application/vnd.google.colaboratory.intrinsic+json": {
              "type": "string"
            }
          },
          "metadata": {},
          "execution_count": 26
        }
      ]
    },
    {
      "cell_type": "code",
      "source": [
        "S[3]"
      ],
      "metadata": {
        "colab": {
          "base_uri": "https://localhost:8080/",
          "height": 35
        },
        "id": "AD0wkWcIdGi4",
        "outputId": "fc0f08e6-304b-41e8-d85c-ed4bf6197926"
      },
      "execution_count": null,
      "outputs": [
        {
          "output_type": "execute_result",
          "data": {
            "text/plain": [
              "'Gold Coin'"
            ],
            "application/vnd.google.colaboratory.intrinsic+json": {
              "type": "string"
            }
          },
          "metadata": {},
          "execution_count": 28
        }
      ]
    },
    {
      "cell_type": "code",
      "source": [
        "S.values[3]"
      ],
      "metadata": {
        "colab": {
          "base_uri": "https://localhost:8080/",
          "height": 35
        },
        "id": "I09kajQNdjJ3",
        "outputId": "188b59b8-e229-436a-df19-9680a13ba99b"
      },
      "execution_count": null,
      "outputs": [
        {
          "output_type": "execute_result",
          "data": {
            "text/plain": [
              "'Gold Coin'"
            ],
            "application/vnd.google.colaboratory.intrinsic+json": {
              "type": "string"
            }
          },
          "metadata": {},
          "execution_count": 30
        }
      ]
    },
    {
      "cell_type": "markdown",
      "source": [
        "# Create Series from Dictionary"
      ],
      "metadata": {
        "id": "I40wZZA4d9Vp"
      }
    },
    {
      "cell_type": "code",
      "source": [
        "new_gifts = {\n",
        "    'Mukesh': 'Gamming pc',\n",
        "    'Shrijan': 'Sun ko hatti',\n",
        "    'Bimarsh': 'Five Star',\n",
        "    'Bishal':'Perfume'\n",
        "}\n",
        "S = pd.Series(new_gifts)\n",
        "S"
      ],
      "metadata": {
        "colab": {
          "base_uri": "https://localhost:8080/"
        },
        "id": "zmm03UDpdorH",
        "outputId": "cc66d452-482f-439e-e952-0c6dec437dc0"
      },
      "execution_count": null,
      "outputs": [
        {
          "output_type": "execute_result",
          "data": {
            "text/plain": [
              "Mukesh       Gamming pc\n",
              "Shrijan    Sun ko hatti\n",
              "Bimarsh       Five Star\n",
              "Bishal          Perfume\n",
              "dtype: object"
            ]
          },
          "metadata": {},
          "execution_count": 31
        }
      ]
    },
    {
      "cell_type": "code",
      "source": [
        "S['Mukesh']"
      ],
      "metadata": {
        "colab": {
          "base_uri": "https://localhost:8080/",
          "height": 35
        },
        "id": "DxNNOSCYek_U",
        "outputId": "70658dfa-5800-431b-b6f1-205668f2bd18"
      },
      "execution_count": null,
      "outputs": [
        {
          "output_type": "execute_result",
          "data": {
            "text/plain": [
              "'Gamming pc'"
            ],
            "application/vnd.google.colaboratory.intrinsic+json": {
              "type": "string"
            }
          },
          "metadata": {},
          "execution_count": 34
        }
      ]
    },
    {
      "cell_type": "code",
      "source": [
        "S[0]"
      ],
      "metadata": {
        "colab": {
          "base_uri": "https://localhost:8080/",
          "height": 35
        },
        "id": "aSP2d9sheo-4",
        "outputId": "6e21f4e0-4d69-4105-cdd7-a2481e109669"
      },
      "execution_count": null,
      "outputs": [
        {
          "output_type": "execute_result",
          "data": {
            "text/plain": [
              "'Gamming pc'"
            ],
            "application/vnd.google.colaboratory.intrinsic+json": {
              "type": "string"
            }
          },
          "metadata": {},
          "execution_count": 35
        }
      ]
    },
    {
      "cell_type": "code",
      "source": [
        "S.values[0]"
      ],
      "metadata": {
        "colab": {
          "base_uri": "https://localhost:8080/",
          "height": 35
        },
        "id": "sEb3mOMPetFj",
        "outputId": "62da5304-450d-4145-8838-7bec35893d74"
      },
      "execution_count": null,
      "outputs": [
        {
          "output_type": "execute_result",
          "data": {
            "text/plain": [
              "'Gamming pc'"
            ],
            "application/vnd.google.colaboratory.intrinsic+json": {
              "type": "string"
            }
          },
          "metadata": {},
          "execution_count": 36
        }
      ]
    },
    {
      "cell_type": "code",
      "source": [],
      "metadata": {
        "id": "CNqlDCbhevdm"
      },
      "execution_count": null,
      "outputs": []
    }
  ]
}